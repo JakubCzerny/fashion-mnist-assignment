{
 "cells": [
  {
   "cell_type": "code",
   "execution_count": 1,
   "metadata": {},
   "outputs": [
    {
     "name": "stdout",
     "output_type": "stream",
     "text": [
      "/home/kuba/repos/fashion-mnist-assignment\n"
     ]
    }
   ],
   "source": [
    "%cd ..\n",
    "\n",
    "import cv2\n",
    "import scipy\n",
    "import numpy as np\n",
    "from PIL import Image\n",
    "from hyperopt import fmin, tpe, hp, STATUS_OK, Trials\n",
    "import matplotlib.pyplot as plt\n",
    "from my_code import helpers\n",
    "from my_code import models\n",
    "\n",
    "import tensorflow as tf\n",
    "from sklearn.model_selection import train_test_split\n",
    "from sklearn.metrics import confusion_matrix\n",
    "from tensorflow.keras.models import Sequential\n",
    "from tensorflow.keras import Model, regularizers, backend\n",
    "from tensorflow.keras.callbacks import EarlyStopping, ReduceLROnPlateau, ModelCheckpoint\n",
    "from tensorflow.keras.layers import InputLayer, Lambda, LeakyReLU, ReLU, GlobalAveragePooling2D, BatchNormalization, Flatten, Dense, MaxPool2D, AveragePooling2D, Conv2D, Dropout, MaxPooling2D\n",
    "from tensorflow.keras.optimizers import Adam, SGD\n",
    "from utils import mnist_reader\n",
    "from tensorflow.keras.utils import to_categorical\n",
    "from tensorflow.keras.preprocessing.image import ImageDataGenerator\n",
    "\n",
    "IMG_SIZE = 28\n",
    "NUM_CLASSES = 10\n",
    "SEED = 2019\n",
    "classes = ['T-shirt', 'Trouser', 'Pullover', 'Dress', 'Coat', 'Sandal', 'Shirt', 'Sneaker', 'Bag', 'Ankle boot']"
   ]
  },
  {
   "cell_type": "markdown",
   "metadata": {},
   "source": [
    "# Calculate accuracy of the models on test & train dataset"
   ]
  },
  {
   "cell_type": "code",
   "execution_count": 3,
   "metadata": {},
   "outputs": [
    {
     "name": "stdout",
     "output_type": "stream",
     "text": [
      "Model 0 accuracy: 0.9398\n",
      "Model 1 accuracy: 0.9419\n",
      "Model 2 accuracy: 0.9431\n",
      "Model 3 accuracy: 0.9407\n",
      "Model 4 accuracy: 0.9457\n",
      "\n",
      "Mean accuracy 0.9422\n",
      "Model 0 accuracy: 0.9718\n",
      "Model 1 accuracy: 0.9651\n",
      "Model 2 accuracy: 0.9690\n",
      "Model 3 accuracy: 0.9676\n",
      "Model 4 accuracy: 0.9749\n",
      "\n",
      "Mean accuracy 0.9697\n"
     ]
    }
   ],
   "source": [
    "def calculate_accuracy(X, y, model_name):\n",
    "    X = X.reshape(X.shape[0], IMG_SIZE, IMG_SIZE, 1)\n",
    "    y_encoded = to_categorical(y, num_classes=NUM_CLASSES, dtype='float32')\n",
    "\n",
    "    generator_args = dict(\n",
    "        data_format = 'channels_last',\n",
    "        rescale=1./255,\n",
    "    )\n",
    "\n",
    "    datagen = ImageDataGenerator(**generator_args)\n",
    "    datagen.fit(X)\n",
    "\n",
    "    generator = datagen.flow(\n",
    "        X, \n",
    "        y_encoded, \n",
    "        batch_size=256,\n",
    "        shuffle=False\n",
    "    )\n",
    "\n",
    "    accuracies = []\n",
    "    for i in range(5):\n",
    "        model = tf.keras.models.load_model('models/model_{:}_{:}.h5'.format(model_name,i))\n",
    "        result = model.evaluate_generator(generator)\n",
    "        accuracies.append(result[1])\n",
    "        print(\"Model {:} accuracy: {:.4f}\".format(i,result[1]))\n",
    "    \n",
    "    print(\"\\nMean accuracy {:.4f}\".format(np.mean(accuracies)))\n",
    "\n",
    "\n",
    "X, y = mnist_reader.load_mnist('data/fashion', kind='t10k')\n",
    "calculate_accuracy(X,y,'v5')\n",
    "\n",
    "X, y = mnist_reader.load_mnist('data/fashion', kind='train')\n",
    "calculate_accuracy(X,y,'v5')"
   ]
  },
  {
   "cell_type": "markdown",
   "metadata": {},
   "source": [
    "# Model ensemble"
   ]
  },
  {
   "cell_type": "code",
   "execution_count": null,
   "metadata": {},
   "outputs": [],
   "source": [
    "X_test, y_test = mnist_reader.load_mnist('data/fashion', kind='t10k')\n",
    "X_test = X_test.reshape(X_test.shape[0], IMG_SIZE, IMG_SIZE, 1)\n",
    "y_test_encoded = to_categorical(y_test, num_classes=NUM_CLASSES, dtype='float32')\n",
    "\n",
    "test_generator_args = dict(\n",
    "    data_format = 'channels_last',\n",
    "    rescale=1./255,\n",
    ")\n",
    "\n",
    "test_datagen = ImageDataGenerator(**test_generator_args)\n",
    "test_datagen.fit(X_test)\n",
    "\n",
    "batch_size = 200\n",
    "\n",
    "test_generator = test_datagen.flow(\n",
    "    X_test, \n",
    "    y_test_encoded, \n",
    "    batch_size=batch_size,\n",
    "    shuffle=False\n",
    ")\n",
    "\n",
    "model_name = 'v5'\n",
    "loaded_models = []\n",
    "num_iters = len(test_generator)\n",
    "\n",
    "# Load 5 trained models\n",
    "for i in range(5):\n",
    "    loaded_models.append(tf.keras.models.load_model('models/model_{:}_{:}.h5'.format(model_name,i)))\n",
    "    print(\"Model {:} has been loaded\".format(i))\n",
    "\n",
    "preds  = np.empty((0,))\n",
    "y_true = np.empty((0,))\n",
    "\n",
    "# Iterate over the generator manually\n",
    "for i,(x,y_batch) in enumerate(test_generator):\n",
    "    print(\"Batch {:} out of {:}\".format(i,num_iters))\n",
    "    preds_batch = np.zeros((batch_size,NUM_CLASSES))\n",
    "    for j in range(5):\n",
    "        preds_batch += np.array(loaded_models[j].predict(x))\n",
    "    \n",
    "    preds  = np.hstack((preds, np.argmax(preds_batch,axis=-1)))\n",
    "    y_true = np.hstack((y_true, np.argmax(y_batch,axis=-1)))\n",
    "    \n",
    "    # stop once iterated over all examples\n",
    "    if (i+1) >= num_iters:\n",
    "        break\n",
    "        \n",
    "acc = np.mean(preds==y_true)\n",
    "print(\"Test accuracy {:.4f}\\n\".format(acc))\n",
    "\n",
    "print(confusion_matrix(y_true, preds))"
   ]
  }
 ],
 "metadata": {
  "kernelspec": {
   "display_name": "Python 3",
   "language": "python",
   "name": "python3"
  },
  "language_info": {
   "codemirror_mode": {
    "name": "ipython",
    "version": 3
   },
   "file_extension": ".py",
   "mimetype": "text/x-python",
   "name": "python",
   "nbconvert_exporter": "python",
   "pygments_lexer": "ipython3",
   "version": "3.6.9"
  }
 },
 "nbformat": 4,
 "nbformat_minor": 2
}
